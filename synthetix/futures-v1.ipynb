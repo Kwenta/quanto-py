{
 "cells": [
  {
   "cell_type": "markdown",
   "metadata": {},
   "source": [
    "# Synthetix Perpetual Futures"
   ]
  },
  {
   "cell_type": "code",
   "execution_count": 1,
   "metadata": {},
   "outputs": [],
   "source": [
    "from variables import *\n",
    "import numpy as np\n",
    "import matplotlib.pyplot as plt"
   ]
  },
  {
   "cell_type": "markdown",
   "metadata": {},
   "source": [
    "## Parameters"
   ]
  },
  {
   "cell_type": "markdown",
   "metadata": {},
   "source": [
    "### Market and Position Parameters"
   ]
  },
  {
   "cell_type": "markdown",
   "metadata": {},
   "source": [
    "#### Position Size\n",
    "* Measured in units of the base asset (e.g. position \"worth\" 10 $BTC will have `position_size = 10`)\n",
    "* Long positions are positive, short positions are negative"
   ]
  },
  {
   "cell_type": "code",
   "execution_count": 2,
   "metadata": {},
   "outputs": [],
   "source": [
    "position_size = (initial_margin * initial_leverage) / initial_base_asset_spot_price"
   ]
  },
  {
   "cell_type": "markdown",
   "metadata": {},
   "source": [
    "#### Notional Value\n",
    "* The (signed) value of the base currency units on a position\n",
    "* long positions are positive, short positions are negative"
   ]
  },
  {
   "cell_type": "markdown",
   "metadata": {},
   "source": [
    "Current Notional Value"
   ]
  },
  {
   "cell_type": "code",
   "execution_count": 3,
   "metadata": {},
   "outputs": [],
   "source": [
    "notional_value = position_size * base_asset_spot_price"
   ]
  },
  {
   "cell_type": "markdown",
   "metadata": {},
   "source": [
    "Initial Notional Value"
   ]
  },
  {
   "cell_type": "code",
   "execution_count": 4,
   "metadata": {},
   "outputs": [],
   "source": [
    "\n",
    "initial_notional_value = initial_margin * initial_leverage"
   ]
  },
  {
   "cell_type": "markdown",
   "metadata": {},
   "source": [
    "#### Profit and Loss (PnL)\n",
    "* The profit in a position is the change in its notional value since entry"
   ]
  },
  {
   "cell_type": "code",
   "execution_count": 5,
   "metadata": {},
   "outputs": [],
   "source": [
    "profit_and_loss = notional_value - initial_notional_value"
   ]
  },
  {
   "cell_type": "markdown",
   "metadata": {},
   "source": [
    "#### Market Size\n",
    "* Total size of all outstanding positions in the market"
   ]
  },
  {
   "cell_type": "code",
   "execution_count": 6,
   "metadata": {},
   "outputs": [],
   "source": [
    "market_size = sum(set_of_all_positions_in_the_market) if sum(set_of_all_positions_in_the_market) == set_of_all_long_positions_in_the_market + set_of_all_short_positions_in_the_market else Exception(\"Market size calculation error\")"
   ]
  },
  {
   "cell_type": "markdown",
   "metadata": {},
   "source": [
    "#### Market skew\n",
    "* Ratio of long to short positions in the market (relative to position_size)\n",
    "* Positive skew means more longs than shorts\n",
    "* Negative skew means more shorts than longs"
   ]
  },
  {
   "cell_type": "code",
   "execution_count": 7,
   "metadata": {},
   "outputs": [],
   "source": [
    "def get_market_skew():\n",
    "    skew = 0\n",
    "    for position in set_of_all_positions_in_the_market:\n",
    "        skew += position.size\n",
    "    return skew\n",
    "\n",
    "market_skew = get_market_skew()"
   ]
  },
  {
   "cell_type": "markdown",
   "metadata": {},
   "source": [
    "### Leverage and Margins Parameters"
   ]
  },
  {
   "cell_type": "markdown",
   "metadata": {},
   "source": [
    "#### Leverage\n",
    "* The ratio of notional value to margin\n",
    "* λ = v / m"
   ]
  },
  {
   "cell_type": "markdown",
   "metadata": {},
   "source": [
    "Current Leverage"
   ]
  },
  {
   "cell_type": "code",
   "execution_count": 8,
   "metadata": {},
   "outputs": [],
   "source": [
    "leverage = notional_value / remaining_margin"
   ]
  },
  {
   "cell_type": "markdown",
   "metadata": {},
   "source": [
    "Initial Leverage"
   ]
  },
  {
   "cell_type": "code",
   "execution_count": 9,
   "metadata": {},
   "outputs": [],
   "source": [
    "initial_leverage = initial_notional_value / initial_margin"
   ]
  },
  {
   "cell_type": "markdown",
   "metadata": {},
   "source": [
    "#### Margin"
   ]
  },
  {
   "cell_type": "markdown",
   "metadata": {},
   "source": [
    "Initial Margin"
   ]
  },
  {
   "cell_type": "code",
   "execution_count": 10,
   "metadata": {},
   "outputs": [],
   "source": [
    "initial_margin = position_size * initial_base_asset_spot_price / initial_leverage"
   ]
  },
  {
   "cell_type": "markdown",
   "metadata": {},
   "source": [
    "Remaining Margin\n",
    "* if remaining_margin < 0, position is liquidated\n"
   ]
  },
  {
   "cell_type": "code",
   "execution_count": 11,
   "metadata": {},
   "outputs": [],
   "source": [
    "remaining_margin = max(initial_margin + profit_and_loss + accrued_position_funding, 0)"
   ]
  },
  {
   "cell_type": "markdown",
   "metadata": {},
   "source": [
    "Position Debt\n",
    "* Margin \"owed\" to the \"system\" (i.e. margin that must be paid back to close the position)\n",
    "  * When a position is closed, the funds in its margin are settled. After profit and funding are computed, the remaining margin will be minted into the account that created the position, while any losses out of the initial margin, will be minted into the fee pool.\""
   ]
  },
  {
   "cell_type": "code",
   "execution_count": 12,
   "metadata": {},
   "outputs": [],
   "source": [
    "position_debt = abs(initial_notional_value) - initial_margin"
   ]
  },
  {
   "cell_type": "markdown",
   "metadata": {},
   "source": [
    "### Exchange Fees\n",
    "* Fees are imposed when a position is (1) opened, (2) increased"
   ]
  },
  {
   "cell_type": "markdown",
   "metadata": {},
   "source": [
    "#### Maker\n",
    "* A maker is a trader who is reducing skew in the market. \n",
    "  * If the market is long skew, a maker is a trader who is opening a short position. If the market is short skew, a maker is a trader who is opening a long position."
   ]
  },
  {
   "cell_type": "markdown",
   "metadata": {},
   "source": [
    "#### Taker\n",
    "* A taker is a trader who is increasing skew in the market. \n",
    "  * If the market is long skew, a taker is a trader who is opening a long position. If the market is short skew, a taker is a trader who is opening a short position."
   ]
  },
  {
   "cell_type": "markdown",
   "metadata": {},
   "source": [
    "\n",
    "#### Fees\n",
    "* fees will be charged out of the user's remaining margin\n",
    "  * since fees are charged out of the remaining margin, they will affect the user's leverage"
   ]
  },
  {
   "cell_type": "markdown",
   "metadata": {},
   "source": [
    "### Skew Funding Rate"
   ]
  },
  {
   "cell_type": "markdown",
   "metadata": {},
   "source": [
    "#### Proportional Skew\n",
    "* The skew normalized by the skew scaling constant."
   ]
  },
  {
   "cell_type": "code",
   "execution_count": 13,
   "metadata": {},
   "outputs": [],
   "source": [
    "proportional_skew = market_skew / skew_scaling_denominator_constant"
   ]
  },
  {
   "cell_type": "markdown",
   "metadata": {},
   "source": [
    "### Aggregate Debt Calculation"
   ]
  },
  {
   "cell_type": "markdown",
   "metadata": {},
   "source": [
    "#### Total Debt\n",
    "* The overall market debt is the sum of the remaining margin in all positions"
   ]
  },
  {
   "cell_type": "markdown",
   "metadata": {},
   "source": [
    "Aggregate Position Entry Debt Correction"
   ]
  },
  {
   "cell_type": "code",
   "execution_count": 14,
   "metadata": {},
   "outputs": [],
   "source": [
    "aggregate_position_entry_debt_correction = (\n",
    "    market_skew * (base_asset_spot_price + unrecorded_cumulative_funding)\n",
    ") + np.sum([\n",
    "    (\n",
    "        position.initial_margin \n",
    "        - position.initial_notional_value \n",
    "        - (position.position_size * position.unrecorded_cumulative_funding_at_last_modified_index)\n",
    "    ) for position in set_of_all_positions_in_the_market\n",
    "])"
   ]
  },
  {
   "cell_type": "markdown",
   "metadata": {},
   "source": [
    "Market Debt"
   ]
  },
  {
   "cell_type": "code",
   "execution_count": 15,
   "metadata": {},
   "outputs": [],
   "source": [
    "market_debt = (\n",
    "    max(\n",
    "        market_skew * (base_asset_spot_price + unrecorded_cumulative_funding) \n",
    "        + aggregate_position_entry_debt_correction, \n",
    "        0\n",
    "    )\n",
    ")"
   ]
  },
  {
   "cell_type": "markdown",
   "metadata": {},
   "source": [
    "### Liquidations and Keepers"
   ]
  },
  {
   "cell_type": "markdown",
   "metadata": {},
   "source": [
    "#### Liquidation margin\n",
    "* Liquidation margin below which a position will be liquidatable"
   ]
  },
  {
   "cell_type": "code",
   "execution_count": 16,
   "metadata": {},
   "outputs": [],
   "source": [
    "liquidation_margin = (\n",
    "    max(\n",
    "        position_size * base_asset_spot_price * liquidation_fee_ratio,\n",
    "        minimal_keeper_incentive\n",
    "    )\n",
    "    + (position_size * base_asset_spot_price * liquidation_buffer_ratio)\n",
    ")"
   ]
  },
  {
   "cell_type": "markdown",
   "metadata": {},
   "source": [
    "Minimal keeper incentive\n",
    "* The minimum incentive for a keeper to liquidate a position (in futures v1 this value was set to 20 $sUSD)"
   ]
  },
  {
   "cell_type": "markdown",
   "metadata": {},
   "source": [
    "Liquidation buffer ratio\n",
    "* Ratio of notional position size that will be used as buffer to reduce chance of negative margin on large price updates"
   ]
  },
  {
   "cell_type": "markdown",
   "metadata": {},
   "source": [
    "Liquidation fee ratio\n",
    "* Ratio of notional position size that will be paid to incentive liquidation keepers"
   ]
  },
  {
   "cell_type": "markdown",
   "metadata": {},
   "source": [
    "Approxime liquidation price\n",
    "* Approximate liquidation price as estimated using liquidation margin calculated for current price\n",
    "* Will be above actual liquidation price for longs, and below for shorts"
   ]
  },
  {
   "cell_type": "code",
   "execution_count": 17,
   "metadata": {},
   "outputs": [],
   "source": [
    "approximate_liquidation_price = (\n",
    "    initial_base_asset_spot_price\n",
    "    - ((initial_margin - liquidation_margin) / position_size)\n",
    "    - (unrecorded_cumulative_funding - unrecorded_cumulative_funding_at_last_modified_index)\n",
    ")"
   ]
  }
 ],
 "metadata": {
  "kernelspec": {
   "display_name": "Python 3",
   "language": "python",
   "name": "python3"
  },
  "language_info": {
   "codemirror_mode": {
    "name": "ipython",
    "version": 3
   },
   "file_extension": ".py",
   "mimetype": "text/x-python",
   "name": "python",
   "nbconvert_exporter": "python",
   "pygments_lexer": "ipython3",
   "version": "3.11.7"
  }
 },
 "nbformat": 4,
 "nbformat_minor": 2
}
