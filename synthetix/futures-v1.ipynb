{
 "cells": [
  {
   "cell_type": "markdown",
   "metadata": {},
   "source": [
    "# Synthetix Perpetual Futures\n"
   ]
  },
  {
   "cell_type": "code",
   "execution_count": 477,
   "metadata": {},
   "outputs": [],
   "source": [
    "from variables import *\n",
    "import numpy as np\n",
    "import matplotlib.pyplot as plt"
   ]
  },
  {
   "cell_type": "markdown",
   "metadata": {},
   "source": [
    "## Parameters\n"
   ]
  },
  {
   "cell_type": "markdown",
   "metadata": {},
   "source": [
    "### Market and Position Parameters\n"
   ]
  },
  {
   "cell_type": "markdown",
   "metadata": {},
   "source": [
    "#### Position Size\n",
    "\n",
    "-   Measured in units of the base asset (e.g. position \"worth\" 10 $BTC will have `position_size = 10`)\n",
    "-   Long positions are positive, short positions are negative\n"
   ]
  },
  {
   "cell_type": "code",
   "execution_count": 478,
   "metadata": {},
   "outputs": [],
   "source": [
    "position_size = (initial_margin * initial_leverage) / initial_base_asset_spot_price\n",
    "\n",
    "\n",
    "def calculate_position_size(\n",
    "    initial_margin, initial_leverage, initial_base_asset_spot_price\n",
    "):\n",
    "    return (initial_margin * initial_leverage) / initial_base_asset_spot_price"
   ]
  },
  {
   "cell_type": "markdown",
   "metadata": {},
   "source": [
    "#### Notional Value\n",
    "\n",
    "-   The (signed) value of the base currency units on a position\n",
    "-   long positions are positive, short positions are negative\n"
   ]
  },
  {
   "cell_type": "markdown",
   "metadata": {},
   "source": [
    "Current Notional Value\n"
   ]
  },
  {
   "cell_type": "code",
   "execution_count": 479,
   "metadata": {},
   "outputs": [],
   "source": [
    "notional_value = position_size * base_asset_spot_price\n",
    "\n",
    "\n",
    "def calculate_notional_value(position_size, base_asset_spot_price):\n",
    "    return position_size * base_asset_spot_price"
   ]
  },
  {
   "cell_type": "markdown",
   "metadata": {},
   "source": [
    "Initial Notional Value\n"
   ]
  },
  {
   "cell_type": "code",
   "execution_count": 480,
   "metadata": {},
   "outputs": [],
   "source": [
    "initial_notional_value = initial_margin * initial_leverage\n",
    "\n",
    "\n",
    "def calculate_initial_notional_value(initial_margin, initial_leverage):\n",
    "    return initial_margin * initial_leverage"
   ]
  },
  {
   "cell_type": "markdown",
   "metadata": {},
   "source": [
    "#### Profit and Loss (PnL)\n",
    "\n",
    "-   The profit in a position is the change in its notional value since entry\n"
   ]
  },
  {
   "cell_type": "code",
   "execution_count": 481,
   "metadata": {},
   "outputs": [],
   "source": [
    "profit_and_loss = notional_value - initial_notional_value\n",
    "\n",
    "\n",
    "def calculate_profit_and_loss(notional_value, initial_notional_value):\n",
    "    return notional_value - initial_notional_value"
   ]
  },
  {
   "cell_type": "markdown",
   "metadata": {},
   "source": [
    "#### Market Size\n",
    "\n",
    "-   Total size of all outstanding positions in the market\n"
   ]
  },
  {
   "cell_type": "code",
   "execution_count": 482,
   "metadata": {},
   "outputs": [],
   "source": [
    "market_size = (\n",
    "    sum(set_of_all_positions_in_the_market)\n",
    "    if sum(set_of_all_positions_in_the_market)\n",
    "    == set_of_all_long_positions_in_the_market\n",
    "    + set_of_all_short_positions_in_the_market\n",
    "    else Exception(\"Market size calculation error\")\n",
    ")\n",
    "\n",
    "\n",
    "def calculate_market_size(\n",
    "    set_of_all_positions_in_the_market,\n",
    "    set_of_all_long_positions_in_the_market,\n",
    "    set_of_all_short_positions_in_the_market,\n",
    "):\n",
    "    total_market_size = sum(set_of_all_positions_in_the_market)\n",
    "    if (\n",
    "        total_market_size\n",
    "        == set_of_all_long_positions_in_the_market\n",
    "        + set_of_all_short_positions_in_the_market\n",
    "    ):\n",
    "        return total_market_size\n",
    "    else:\n",
    "        raise Exception(\"Market size calculation error\")"
   ]
  },
  {
   "cell_type": "markdown",
   "metadata": {},
   "source": [
    "#### Market skew\n",
    "\n",
    "-   Ratio of long to short positions in the market (relative to position_size)\n",
    "-   Positive skew means more longs than shorts\n",
    "-   Negative skew means more shorts than longs\n"
   ]
  },
  {
   "cell_type": "code",
   "execution_count": 483,
   "metadata": {},
   "outputs": [],
   "source": [
    "market_skew = sum(position.size for position in set_of_all_positions_in_the_market)\n",
    "\n",
    "\n",
    "def calculate_market_skew(set_of_all_positions_in_the_market):\n",
    "    return sum(position.size for position in set_of_all_positions_in_the_market)"
   ]
  },
  {
   "cell_type": "markdown",
   "metadata": {},
   "source": [
    "### Leverage and Margins Parameters\n"
   ]
  },
  {
   "cell_type": "markdown",
   "metadata": {},
   "source": [
    "#### Leverage\n",
    "\n",
    "-   The ratio of notional value to margin\n",
    "-   λ = v / m\n"
   ]
  },
  {
   "cell_type": "markdown",
   "metadata": {},
   "source": [
    "Current Leverage\n"
   ]
  },
  {
   "cell_type": "code",
   "execution_count": 484,
   "metadata": {},
   "outputs": [],
   "source": [
    "leverage = notional_value / remaining_margin\n",
    "\n",
    "\n",
    "def calculate_leverage(notional_value, remaining_margin):\n",
    "    return notional_value / remaining_margin"
   ]
  },
  {
   "cell_type": "markdown",
   "metadata": {},
   "source": [
    "Initial Leverage\n"
   ]
  },
  {
   "cell_type": "code",
   "execution_count": 485,
   "metadata": {},
   "outputs": [],
   "source": [
    "initial_leverage = initial_notional_value / initial_margin\n",
    "\n",
    "\n",
    "def calculate_initial_leverage(initial_notional_value, initial_margin):\n",
    "    return initial_notional_value / initial_margin"
   ]
  },
  {
   "cell_type": "markdown",
   "metadata": {},
   "source": [
    "#### Margin\n"
   ]
  },
  {
   "cell_type": "markdown",
   "metadata": {},
   "source": [
    "Initial Margin\n"
   ]
  },
  {
   "cell_type": "code",
   "execution_count": 486,
   "metadata": {},
   "outputs": [],
   "source": [
    "initial_margin = position_size * initial_base_asset_spot_price / initial_leverage\n",
    "\n",
    "\n",
    "def calculate_initial_margin(\n",
    "    position_size, initial_base_asset_spot_price, initial_leverage\n",
    "):\n",
    "    return (position_size * initial_base_asset_spot_price) / initial_leverage"
   ]
  },
  {
   "cell_type": "markdown",
   "metadata": {},
   "source": [
    "Remaining Margin\n",
    "\n",
    "-   if remaining_margin < 0, position is liquidated\n"
   ]
  },
  {
   "cell_type": "code",
   "execution_count": 487,
   "metadata": {},
   "outputs": [],
   "source": [
    "remaining_margin = max(initial_margin + profit_and_loss + accrued_position_funding, 0)\n",
    "\n",
    "\n",
    "def calculate_remaining_margin(\n",
    "    initial_margin, profit_and_loss, accrued_position_funding\n",
    "):\n",
    "    return max(initial_margin + profit_and_loss + accrued_position_funding, 0)"
   ]
  },
  {
   "cell_type": "markdown",
   "metadata": {},
   "source": [
    "Position Debt\n",
    "\n",
    "-   Margin \"owed\" to the \"system\" (i.e. margin that must be paid back to close the position)\n",
    "    -   When a position is closed, the funds in its margin are settled. After profit and funding are computed, the remaining margin will be minted into the account that created the position, while any losses out of the initial margin, will be minted into the fee pool.\"\n"
   ]
  },
  {
   "cell_type": "code",
   "execution_count": 488,
   "metadata": {},
   "outputs": [],
   "source": [
    "position_debt = abs(initial_notional_value) - initial_margin\n",
    "\n",
    "\n",
    "def calculate_position_debt(initial_notional_value, initial_margin):\n",
    "    return abs(initial_notional_value) - initial_margin"
   ]
  },
  {
   "cell_type": "markdown",
   "metadata": {},
   "source": [
    "### Exchange Fees\n",
    "\n",
    "-   Fees are imposed when a position is (1) opened, (2) increased\n"
   ]
  },
  {
   "cell_type": "markdown",
   "metadata": {},
   "source": [
    "#### Maker\n",
    "\n",
    "-   A maker is a trader who is reducing skew in the market.\n",
    "    -   If the market is long skew, a maker is a trader who is opening a short position. If the market is short skew, a maker is a trader who is opening a long position.\n"
   ]
  },
  {
   "cell_type": "markdown",
   "metadata": {},
   "source": [
    "#### Taker\n",
    "\n",
    "-   A taker is a trader who is increasing skew in the market.\n",
    "    -   If the market is long skew, a taker is a trader who is opening a long position. If the market is short skew, a taker is a trader who is opening a short position.\n"
   ]
  },
  {
   "cell_type": "markdown",
   "metadata": {},
   "source": [
    "#### Fees\n",
    "\n",
    "-   fees will be charged out of the user's remaining margin\n",
    "    -   since fees are charged out of the remaining margin, they will affect the user's leverage\n"
   ]
  },
  {
   "cell_type": "markdown",
   "metadata": {},
   "source": [
    "### Skew Funding Rate\n"
   ]
  },
  {
   "cell_type": "markdown",
   "metadata": {},
   "source": [
    "💡\n",
    "\n",
    "-   Term: Market Skew\n",
    "    -   Market Skew refers to the difference in open interest between long and short positions in the market\n",
    "    -   A positive Market Skew indicates that the total open interest in long positions exceeds that in short positions\n",
    "        -   suggests a market inclination towards rising prices\n",
    "    -   A negative Market Skew suggests that the total open interest in short positions surpasses that in long positions\n",
    "        -   suggests a market tendency towards falling prices\n",
    "-   Term: Funding Rate\n",
    "    -   The funding rate has the opposite sign to the skew, as funding flows \"against capital in the market\"\n",
    "    -   When the funding rate is positive, shorts pay longs\n",
    "    -   When the funding rate it is negative, longs pay shorts\n"
   ]
  },
  {
   "cell_type": "markdown",
   "metadata": {},
   "source": [
    "#### Proportional Skew\n",
    "\n",
    "-   The skew normalized by the skew scaling constant.\n"
   ]
  },
  {
   "cell_type": "code",
   "execution_count": 489,
   "metadata": {},
   "outputs": [],
   "source": [
    "proportional_skew = market_skew / skew_scaling_denominator_constant\n",
    "\n",
    "\n",
    "def calculate_proportional_skew(market_skew, skew_scaling_denominator_constant):\n",
    "    return market_skew / skew_scaling_denominator_constant"
   ]
  },
  {
   "cell_type": "markdown",
   "metadata": {},
   "source": [
    "### Instantaneous Funding Rate\n"
   ]
  },
  {
   "cell_type": "markdown",
   "metadata": {},
   "source": [
    "-   Funding accumulates continuously; changes in **market skew** or **base asset price** affect funding for all open positions\n",
    "-   Frequent updates between opening and closing positions are costly\n",
    "-   Total accrued funding per base currency unit is recorded whenever the skew changes; individual position funding is calculated from this\n",
    "-   Funding calculations use the spot rates at the time of skew changes, even though the base asset price may vary in between\n",
    "-   If the market is active, any funding inaccuracies due to this method are typically minor\n"
   ]
  },
  {
   "cell_type": "markdown",
   "metadata": {},
   "source": [
    "The Funding Rate is represented numerically as a percentage\n",
    "\n",
    "-   The funding rate is paid/received per position based on **Position Size**\n"
   ]
  },
  {
   "cell_type": "code",
   "execution_count": 539,
   "metadata": {},
   "outputs": [],
   "source": [
    "instantaneous_funding_rate = (\n",
    "    np.clip((-proportional_skew / max_funding_skew_threshold), -1, 1) * max_funding_rate\n",
    ")\n",
    "\n",
    "\n",
    "def calculate_instantaneous_funding_rate(\n",
    "    proportional_skew, max_funding_skew_threshold, max_funding_rate\n",
    "):\n",
    "    return (\n",
    "        np.clip((-proportional_skew / max_funding_skew_threshold), -1, 1)\n",
    "        * max_funding_rate\n",
    "    )"
   ]
  },
  {
   "cell_type": "markdown",
   "metadata": {},
   "source": [
    "### Aggregate Debt Calculation\n"
   ]
  },
  {
   "cell_type": "markdown",
   "metadata": {},
   "source": [
    "#### Total Debt\n",
    "\n",
    "-   The overall market debt is the sum of the remaining margin in all positions\n"
   ]
  },
  {
   "cell_type": "markdown",
   "metadata": {},
   "source": [
    "Aggregate Position Entry Debt Correction\n"
   ]
  },
  {
   "cell_type": "code",
   "execution_count": 540,
   "metadata": {},
   "outputs": [],
   "source": [
    "aggregate_position_entry_debt_correction = (\n",
    "    market_skew * (base_asset_spot_price + unrecorded_cumulative_funding)\n",
    ") + np.sum(\n",
    "    [\n",
    "        (\n",
    "            position.initial_margin\n",
    "            - position.initial_notional_value\n",
    "            - (\n",
    "                position.position_size\n",
    "                * position.unrecorded_cumulative_funding_at_last_modified_index\n",
    "            )\n",
    "        )\n",
    "        for position in set_of_all_positions_in_the_market\n",
    "    ]\n",
    ")\n",
    "\n",
    "\n",
    "def calculate_aggregate_position_entry_debt_correction(\n",
    "    set_of_all_positions_in_the_market,\n",
    "    market_skew,\n",
    "    base_asset_spot_price,\n",
    "    unrecorded_cumulative_funding,\n",
    "):\n",
    "    return (\n",
    "        market_skew * (base_asset_spot_price + unrecorded_cumulative_funding)\n",
    "    ) + np.sum(\n",
    "        [\n",
    "            (\n",
    "                position.initial_margin\n",
    "                - position.initial_notional_value\n",
    "                - (\n",
    "                    position.position_size\n",
    "                    * position.unrecorded_cumulative_funding_at_last_modified_index\n",
    "                )\n",
    "            )\n",
    "            for position in set_of_all_positions_in_the_market\n",
    "        ]\n",
    "    )"
   ]
  },
  {
   "cell_type": "markdown",
   "metadata": {},
   "source": [
    "Market Debt\n"
   ]
  },
  {
   "cell_type": "code",
   "execution_count": 541,
   "metadata": {},
   "outputs": [],
   "source": [
    "market_debt = max(\n",
    "    market_skew * (base_asset_spot_price + unrecorded_cumulative_funding)\n",
    "    + aggregate_position_entry_debt_correction,\n",
    "    0,\n",
    ")\n",
    "\n",
    "\n",
    "def calculate_market_debt(\n",
    "    market_skew,\n",
    "    base_asset_spot_price,\n",
    "    unrecorded_cumulative_funding,\n",
    "    aggregate_position_entry_debt_correction,\n",
    "):\n",
    "    return max(\n",
    "        market_skew * (base_asset_spot_price + unrecorded_cumulative_funding)\n",
    "        + aggregate_position_entry_debt_correction,\n",
    "        0,\n",
    "    )"
   ]
  },
  {
   "cell_type": "markdown",
   "metadata": {},
   "source": [
    "### Liquidations and Keepers\n"
   ]
  },
  {
   "cell_type": "markdown",
   "metadata": {},
   "source": [
    "#### Liquidation margin\n",
    "\n",
    "-   Liquidation margin below which a position will be liquidatable\n",
    "-   It is a function of current spot price\n"
   ]
  },
  {
   "cell_type": "code",
   "execution_count": 542,
   "metadata": {},
   "outputs": [],
   "source": [
    "liquidation_margin = max(\n",
    "    position_size * base_asset_spot_price * liquidation_fee_ratio,\n",
    "    minimal_keeper_incentive,\n",
    ") + (position_size * base_asset_spot_price * liquidation_buffer_ratio)\n",
    "\n",
    "\n",
    "def calculate_liquidation_margin(\n",
    "    position_size,\n",
    "    base_asset_spot_price,\n",
    "    liquidation_fee_ratio,\n",
    "    minimal_keeper_incentive,\n",
    "    liquidation_buffer_ratio,\n",
    "):\n",
    "    return np.maximum(\n",
    "        position_size * base_asset_spot_price * liquidation_fee_ratio,\n",
    "        minimal_keeper_incentive,\n",
    "    ) + (position_size * base_asset_spot_price * liquidation_buffer_ratio)"
   ]
  },
  {
   "cell_type": "markdown",
   "metadata": {},
   "source": [
    "Minimal keeper incentive\n",
    "\n",
    "-   The minimum incentive for a keeper to liquidate a position (in futures v1 this value was set to 20 $sUSD)\n"
   ]
  },
  {
   "cell_type": "markdown",
   "metadata": {},
   "source": [
    "Liquidation buffer ratio\n",
    "\n",
    "-   Ratio of notional position size that will be used as buffer to reduce chance of negative margin on large price updates\n"
   ]
  },
  {
   "cell_type": "markdown",
   "metadata": {},
   "source": [
    "Liquidation fee ratio\n",
    "\n",
    "-   Ratio of notional position size that will be paid to incentive liquidation keepers\n"
   ]
  },
  {
   "cell_type": "markdown",
   "metadata": {},
   "source": [
    "Approxime liquidation price\n",
    "\n",
    "-   Approximate liquidation price as estimated using liquidation margin calculated for current price\n",
    "-   Will be above actual liquidation price for longs, and below for shorts\n"
   ]
  },
  {
   "cell_type": "code",
   "execution_count": 543,
   "metadata": {},
   "outputs": [],
   "source": [
    "approximate_liquidation_price = (\n",
    "    initial_base_asset_spot_price\n",
    "    - ((initial_margin - liquidation_margin) / position_size)\n",
    "    - (\n",
    "        unrecorded_cumulative_funding\n",
    "        - unrecorded_cumulative_funding_at_last_modified_index\n",
    "    )\n",
    ")\n",
    "\n",
    "\n",
    "def calculate_approximate_liquidation_price(\n",
    "    initial_base_asset_spot_price,\n",
    "    initial_margin,\n",
    "    liquidation_margin,\n",
    "    position_size,\n",
    "    unrecorded_cumulative_funding,\n",
    "    unrecorded_cumulative_funding_at_last_modified_index,\n",
    "):\n",
    "    return (\n",
    "        initial_base_asset_spot_price\n",
    "        - ((initial_margin - liquidation_margin) / position_size)\n",
    "        - (\n",
    "            unrecorded_cumulative_funding\n",
    "            - unrecorded_cumulative_funding_at_last_modified_index\n",
    "        )\n",
    "    )"
   ]
  },
  {
   "cell_type": "markdown",
   "metadata": {},
   "source": [
    "## Payoffs\n"
   ]
  },
  {
   "cell_type": "markdown",
   "metadata": {},
   "source": [
    "### Basic Payoff Analysis\n"
   ]
  },
  {
   "cell_type": "markdown",
   "metadata": {},
   "source": [
    "Entry Margin\n",
    "\n",
    "-   Units: $USD\n"
   ]
  },
  {
   "cell_type": "code",
   "execution_count": 544,
   "metadata": {},
   "outputs": [],
   "source": [
    "m_e = 100"
   ]
  },
  {
   "cell_type": "markdown",
   "metadata": {},
   "source": [
    "Entry Leverage\n",
    "\n",
    "-   Units: N/A\n"
   ]
  },
  {
   "cell_type": "code",
   "execution_count": 545,
   "metadata": {},
   "outputs": [],
   "source": [
    "λ_e = 1"
   ]
  },
  {
   "cell_type": "markdown",
   "metadata": {},
   "source": [
    "Entry Spot Price of Base Asset\n",
    "\n",
    "-   Units: $ASSET/$USD\n"
   ]
  },
  {
   "cell_type": "code",
   "execution_count": 546,
   "metadata": {},
   "outputs": [],
   "source": [
    "b_e = 1000"
   ]
  },
  {
   "cell_type": "markdown",
   "metadata": {},
   "source": [
    "Change in Spot Price of Base Asset (since entry)\n",
    "\n",
    "-   Units: $ASSET/$USD\n"
   ]
  },
  {
   "cell_type": "code",
   "execution_count": 547,
   "metadata": {},
   "outputs": [],
   "source": [
    "Δb = np.linspace(1000, 4000, 100)"
   ]
  },
  {
   "cell_type": "markdown",
   "metadata": {},
   "source": [
    "Payoff (as a function of spot price)\n",
    "\n",
    "-   Units: $USD\n"
   ]
  },
  {
   "cell_type": "code",
   "execution_count": 548,
   "metadata": {},
   "outputs": [],
   "source": [
    "payoff = calculate_profit_and_loss(\n",
    "    calculate_notional_value(\n",
    "        calculate_position_size(\n",
    "            m_e,\n",
    "            λ_e,\n",
    "            b_e,\n",
    "        ),\n",
    "        Δb,\n",
    "    ),\n",
    "    calculate_initial_notional_value(m_e, λ_e),\n",
    ")"
   ]
  },
  {
   "cell_type": "markdown",
   "metadata": {},
   "source": [
    "Linear Plot of Payoff (as a function of spot price)\n"
   ]
  },
  {
   "cell_type": "code",
   "execution_count": 549,
   "metadata": {},
   "outputs": [
    {
     "data": {
      "image/png": "[encoded data removed]",
      "text/plain": [
       "<Figure size 640x480 with 1 Axes>"
      ]
     },
     "metadata": {},
     "output_type": "display_data"
    }
   ],
   "source": [
    "plt.plot(Δb, payoff, \"r\")\n",
    "plt.ylabel(\"Payoff (USD)\")\n",
    "plt.xlabel(\"Base asset spot price (USD)\")\n",
    "plt.show()"
   ]
  },
  {
   "cell_type": "markdown",
   "metadata": {},
   "source": [
    "### Basic Liquidation Analysis\n"
   ]
  },
  {
   "cell_type": "markdown",
   "metadata": {},
   "source": [
    "Entry Margin\n",
    "\n",
    "-   Units: $USD\n"
   ]
  },
  {
   "cell_type": "code",
   "execution_count": 550,
   "metadata": {},
   "outputs": [],
   "source": [
    "m_e = 100"
   ]
  },
  {
   "cell_type": "markdown",
   "metadata": {},
   "source": [
    "Entry Leverage\n",
    "\n",
    "-   Units: N/A\n"
   ]
  },
  {
   "cell_type": "code",
   "execution_count": 551,
   "metadata": {},
   "outputs": [],
   "source": [
    "λ_e = 1"
   ]
  },
  {
   "cell_type": "markdown",
   "metadata": {},
   "source": [
    "Entry Spot Price of Base Asset\n",
    "\n",
    "-   Units: $ASSET/$USD\n"
   ]
  },
  {
   "cell_type": "code",
   "execution_count": 552,
   "metadata": {},
   "outputs": [],
   "source": [
    "b_e = 1000"
   ]
  },
  {
   "cell_type": "markdown",
   "metadata": {},
   "source": [
    "Change in Spot Price of Base Asset (since entry)\n",
    "\n",
    "-   Units: $ASSET/$USD\n"
   ]
  },
  {
   "cell_type": "code",
   "execution_count": 553,
   "metadata": {},
   "outputs": [],
   "source": [
    "Δb = np.linspace(1000, 4000, 100)"
   ]
  },
  {
   "cell_type": "markdown",
   "metadata": {},
   "source": [
    "Liquidation Fee Ratio\n",
    "\n",
    "-   Units: Basis Points (BPS)\n"
   ]
  },
  {
   "cell_type": "code",
   "execution_count": 554,
   "metadata": {},
   "outputs": [],
   "source": [
    "r_fee = 35 / 10000"
   ]
  },
  {
   "cell_type": "markdown",
   "metadata": {},
   "source": [
    "Minimal Keeper Incentive\n",
    "\n",
    "-   Units: $USD\n"
   ]
  },
  {
   "cell_type": "code",
   "execution_count": 555,
   "metadata": {},
   "outputs": [],
   "source": [
    "D = 20"
   ]
  },
  {
   "cell_type": "markdown",
   "metadata": {},
   "source": [
    "Liquidation Buffer Ratio\n",
    "\n",
    "-   Units: Basis Points (BPS)\n"
   ]
  },
  {
   "cell_type": "code",
   "execution_count": 556,
   "metadata": {},
   "outputs": [],
   "source": [
    "r_buffer = 1 / 10000"
   ]
  },
  {
   "cell_type": "markdown",
   "metadata": {},
   "source": [
    "Liquidation Margin (amount of margin below which the position can be liquidated)\n",
    "\n",
    "-   Units: $USD\n"
   ]
  },
  {
   "cell_type": "code",
   "execution_count": 557,
   "metadata": {},
   "outputs": [],
   "source": [
    "liq_margin = calculate_liquidation_margin(\n",
    "    calculate_position_size(\n",
    "        m_e,\n",
    "        λ_e,\n",
    "        b_e,\n",
    "    ),\n",
    "    Δb,\n",
    "    r_fee,\n",
    "    D,\n",
    "    r_buffer,\n",
    ")"
   ]
  },
  {
   "cell_type": "markdown",
   "metadata": {},
   "source": [
    "Linear Plot of Liquidation Margin (as a function of spot price)\n"
   ]
  },
  {
   "cell_type": "code",
   "execution_count": 558,
   "metadata": {},
   "outputs": [
    {
     "data": {
      "image/png": "[encoded data removed]",
      "text/plain": [
       "<Figure size 640x480 with 1 Axes>"
      ]
     },
     "metadata": {},
     "output_type": "display_data"
    }
   ],
   "source": [
    "plt.plot(Δb, liq_margin, \"r\")\n",
    "plt.ylabel(\"Liquidation Margin (USD)\")\n",
    "plt.xlabel(\"Base asset spot price (USD)\")\n",
    "plt.show()"
   ]
  },
  {
   "cell_type": "markdown",
   "metadata": {},
   "source": [
    "Liquidation Price\n",
    "\n",
    "-   Units: $ASSET/$USD\n"
   ]
  },
  {
   "cell_type": "code",
   "execution_count": 559,
   "metadata": {},
   "outputs": [],
   "source": [
    "liq_price = calculate_approximate_liquidation_price(\n",
    "    b_e,\n",
    "    m_e,\n",
    "    liq_margin,\n",
    "    calculate_position_size(\n",
    "        m_e,\n",
    "        λ_e,\n",
    "        b_e,\n",
    "    ),\n",
    "    0,  # assume unrecorded cumulative funding is nil\n",
    "    0,  # assume unrecorded cumulative funding at last index is nil\n",
    ")"
   ]
  },
  {
   "cell_type": "markdown",
   "metadata": {},
   "source": [
    "Linear Plot of Liquidation Price (as a function of spot price)\n"
   ]
  },
  {
   "cell_type": "code",
   "execution_count": 560,
   "metadata": {},
   "outputs": [
    {
     "data": {
      "image/png": "[encoded data removed]",
      "text/plain": [
       "<Figure size 640x480 with 1 Axes>"
      ]
     },
     "metadata": {},
     "output_type": "display_data"
    }
   ],
   "source": [
    "plt.plot(Δb, liq_price, \"r\")\n",
    "plt.ylabel(\"Liquidation Price (ASSET/USD)\")\n",
    "plt.xlabel(\"Base asset spot price (USD)\")\n",
    "plt.show()"
   ]
  },
  {
   "cell_type": "markdown",
   "metadata": {},
   "source": [
    "#### Liquidation Events given Standard Linear Payoff\n"
   ]
  },
  {
   "cell_type": "markdown",
   "metadata": {},
   "source": [
    "Change in Spot Price of Base Asset (since entry)\n",
    "\n",
    "-   Units: $ASSET/$USD\n"
   ]
  },
  {
   "cell_type": "code",
   "execution_count": 561,
   "metadata": {},
   "outputs": [],
   "source": [
    "Δb = np.linspace(4000, 0, 100)"
   ]
  },
  {
   "cell_type": "markdown",
   "metadata": {},
   "source": [
    "Payoff (as a function of spot price)\n",
    "\n",
    "-   Units: $USD\n",
    "-   Takes liquidation into consideration\n"
   ]
  },
  {
   "cell_type": "code",
   "execution_count": 562,
   "metadata": {},
   "outputs": [],
   "source": [
    "liq_margin = calculate_liquidation_margin(\n",
    "    calculate_position_size(\n",
    "        m_e,\n",
    "        λ_e,\n",
    "        b_e,\n",
    "    ),\n",
    "    Δb,\n",
    "    r_fee,\n",
    "    D,\n",
    "    r_buffer,\n",
    ")\n",
    "\n",
    "liq_price = calculate_approximate_liquidation_price(\n",
    "    b_e,\n",
    "    m_e,\n",
    "    liq_margin,\n",
    "    calculate_position_size(\n",
    "        m_e,\n",
    "        λ_e,\n",
    "        b_e,\n",
    "    ),\n",
    "    0,  # assume unrecorded cumulative funding is nil\n",
    "    0,  # assume unrecorded cumulative funding at last index is nil\n",
    ")\n",
    "\n",
    "payoff = calculate_profit_and_loss(\n",
    "    calculate_notional_value(\n",
    "        calculate_position_size(\n",
    "            m_e,\n",
    "            λ_e,\n",
    "            b_e,\n",
    "        ),\n",
    "        Δb,\n",
    "    ),\n",
    "    calculate_initial_notional_value(m_e, λ_e),\n",
    ")\n",
    "\n",
    "\n",
    "liq_condition = Δb <= liq_price\n",
    "payoff = np.where(liq_condition, -m_e, payoff)"
   ]
  },
  {
   "cell_type": "markdown",
   "metadata": {},
   "source": [
    "Non-Linear Plot of Payoff (as a function of spot price)\n"
   ]
  },
  {
   "cell_type": "code",
   "execution_count": 563,
   "metadata": {},
   "outputs": [
    {
     "data": {
      "image/png": "[encoded data removed]",
      "text/plain": [
       "<Figure size 640x480 with 1 Axes>"
      ]
     },
     "metadata": {},
     "output_type": "display_data"
    }
   ],
   "source": [
    "plt.plot(Δb, payoff, \"r.\", markersize=2)\n",
    "plt.ylabel(\"Payoff (USD)\")\n",
    "plt.xlabel(\"Base asset spot price (USD)\")\n",
    "plt.show()"
   ]
  }
 ],
 "metadata": {
  "kernelspec": {
   "display_name": "Python 3",
   "language": "python",
   "name": "python3"
  },
  "language_info": {
   "codemirror_mode": {
    "name": "ipython",
    "version": 3
   },
   "file_extension": ".py",
   "mimetype": "text/x-python",
   "name": "python",
   "nbconvert_exporter": "python",
   "pygments_lexer": "ipython3",
   "version": "3.11.7"
  }
 },
 "nbformat": 4,
 "nbformat_minor": 2
}
